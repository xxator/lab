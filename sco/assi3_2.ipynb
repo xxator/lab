{
 "cells": [
  {
   "cell_type": "code",
   "execution_count": 9,
   "metadata": {},
   "outputs": [],
   "source": [
    "import matplotlib.pyplot as plt\n",
    "import numpy as np\n",
    "import pandas as pd\n",
    "data = pd.read_csv('data_quality.txt',sep=',')"
   ]
  },
  {
   "cell_type": "code",
   "execution_count": 10,
   "metadata": {},
   "outputs": [],
   "source": [
    "\n",
    "w= np.ones(3)\n",
    "a= 0.01 \n",
    "it=1000 \n",
    "\n",
    "x = data.iloc[0:83,0:2].values\n",
    "x=(x-x.mean())/(x.std())\n",
    "one_mat = np.ones([83,1])\n",
    "x = np.concatenate((one_mat,x),axis=1) \n",
    "y = data.iloc[0:83,2].values\n",
    "\n"
   ]
  },
  {
   "cell_type": "code",
   "execution_count": 25,
   "metadata": {},
   "outputs": [
    {
     "name": "stdout",
     "output_type": "stream",
     "text": [
      "regression parameters:  [ 1.04340286 -0.74859542  0.49809504]\n",
      "final cost:  0.4839227132953656\n"
     ]
    }
   ],
   "source": [
    "\n",
    "\n",
    "# cost function\n",
    "def find_cost(x,y,w):\n",
    "    g=1/(1+np.exp(-1*x.dot(w)))\n",
    "    val=y*(np.log(g))+(1-y)*(np.log(1-g))\n",
    "    return np.sum(val)/(-1*len(x))\n",
    "\n",
    "def gd(x,y,w,it,a):\n",
    "#     cost = np.zeros(it)\n",
    "    x_trans = x.T\n",
    "    for i in range(it):\n",
    "        dif = (1/(1+np.exp(-1*x.dot(w))))- y\n",
    "        grad = np.dot(x_trans, dif) / len(x)\n",
    "        w= w-a*grad\n",
    "#         cost[i] = find_cost(x, y, w)    \n",
    "    return w #,cost\n",
    "\n",
    "#calling gd function and find_cost function\n",
    "weights= gd(x,y,w,it,a)\n",
    "print(\"regression parameters: \",weights)\n",
    "final_cost = find_cost(x,y,weights)\n",
    "print(\"final cost: \",final_cost)\n"
   ]
  },
  {
   "cell_type": "code",
   "execution_count": 27,
   "metadata": {},
   "outputs": [
    {
     "name": "stdout",
     "output_type": "stream",
     "text": [
      "[0.38826455 0.24253357 0.37748805 0.46077565 0.66326342 0.78416383\n",
      " 0.84854096 0.80994494 0.7329564  0.91766656 0.92928039 0.91648311\n",
      " 0.93428918 0.96552013 0.95535951 0.97479129 0.97337647 0.9632853\n",
      " 0.95480678 0.40838274 0.2998712  0.45404811 0.32615374 0.40785163\n",
      " 0.52716254 0.36986566 0.28874502 0.23995212 0.31348167 0.43465402\n",
      " 0.59031185 0.62988061 0.84138319 0.93083355 0.87628376]\n",
      "[0, 0, 0, 0, 1, 1, 1, 1, 1, 1, 1, 1, 1, 1, 1, 1, 1, 1, 1, 0, 0, 0, 0, 0, 1, 0, 0, 0, 0, 0, 1, 1, 1, 1, 1]\n"
     ]
    }
   ],
   "source": [
    "# testing data\n",
    "x1=data.iloc[83:119,0:2]\n",
    "x1=(x1-x1.mean())/(x1.std())\n",
    "\n",
    "one_mat = np.ones([35,1]) #making a ones column\n",
    "x1 = np.concatenate((one_mat,x1),axis=1)\n",
    "gz=1/(1+np.exp(-1*(x1.dot(w))))\n",
    "# print(gz)\n",
    "gz = [0 if x < 0.5 else 1 for x in gz]\n",
    "print(gz)\n",
    "\n",
    "\n"
   ]
  },
  {
   "cell_type": "code",
   "execution_count": 28,
   "metadata": {},
   "outputs": [
    {
     "name": "stdout",
     "output_type": "stream",
     "text": [
      "16\n"
     ]
    }
   ],
   "source": [
    "y1=data.iloc[83:119,2].values\n",
    "c=0\n",
    "for i in range(0,30):\n",
    "    if(gz[i]!=y1[i]):\n",
    "        c=c+1        \n",
    "print(c)       \n",
    "        \n",
    "        "
   ]
  },
  {
   "cell_type": "code",
   "execution_count": 29,
   "metadata": {},
   "outputs": [
    {
     "name": "stdout",
     "output_type": "stream",
     "text": [
      "regression parameters:  [ 0.01619479 -0.01739539  0.00776713]\n",
      "final cost:  0.6855374368529736\n"
     ]
    }
   ],
   "source": [
    "#using reguralization\n",
    "#finding the cost function\n",
    "lamda=1000\n",
    "w= np.ones(3)\n",
    "\n",
    "# def find_cost(x,y,w):\n",
    "#     g=1/(1+np.exp(-1*x.dot(w)))\n",
    "#     val=y.dot(np.log(g))+(1-y)*(np.log(1-g))\n",
    "#     return np.sum(val)/(-1*len(x))\n",
    "\n",
    "def gd1(x,y,w,it,a):\n",
    "#     cost = np.zeros(it)\n",
    "    x_trans = x.T\n",
    "    for i in range(it):\n",
    "        dif = (1/(1+np.exp(-1*x.dot(w))))- y\n",
    "        grad = np.dot(x_trans, dif) / len(x)\n",
    "        w= w*(1-(a*lamda/len(x)))-a*grad\n",
    "#         cost[i] = find_cost(x, y, w)    \n",
    "    return w #,cost\n",
    "\n",
    "#calling gd function and find_cost function\n",
    "weights= gd1(x,y,w,it,a)\n",
    "print(\"regression parameters: \",weights)\n",
    "final_cost = find_cost(x,y,weights)\n",
    "print(\"final cost: \",final_cost)\n"
   ]
  },
  {
   "cell_type": "code",
   "execution_count": 32,
   "metadata": {},
   "outputs": [
    {
     "name": "stdout",
     "output_type": "stream",
     "text": [
      "[0.38826455 0.24253357 0.37748805 0.46077565 0.66326342 0.78416383\n",
      " 0.84854096 0.80994494 0.7329564  0.91766656 0.92928039 0.91648311\n",
      " 0.93428918 0.96552013 0.95535951 0.97479129 0.97337647 0.9632853\n",
      " 0.95480678 0.40838274 0.2998712  0.45404811 0.32615374 0.40785163\n",
      " 0.52716254 0.36986566 0.28874502 0.23995212 0.31348167 0.43465402\n",
      " 0.59031185 0.62988061 0.84138319 0.93083355 0.87628376]\n",
      "[0, 0, 0, 0, 1, 1, 1, 1, 1, 1, 1, 1, 1, 1, 1, 1, 1, 1, 1, 0, 0, 0, 0, 0, 1, 0, 0, 0, 0, 0, 1, 1, 1, 1, 1]\n"
     ]
    }
   ],
   "source": [
    "\n",
    "gz=1/(1+np.exp(-1*(x1.dot(w))))\n",
    "print(gz)\n",
    "gz = [0 if x < 0.5 else 1 for x in gz]\n",
    "print(gz)\n"
   ]
  },
  {
   "cell_type": "code",
   "execution_count": 34,
   "metadata": {},
   "outputs": [
    {
     "name": "stdout",
     "output_type": "stream",
     "text": [
      "16\n"
     ]
    }
   ],
   "source": [
    "c=0\n",
    "for i in range(0,30):\n",
    "    if(gz[i]!=y1[i]):\n",
    "        c=c+1        \n",
    "print(c)  "
   ]
  },
  {
   "cell_type": "code",
   "execution_count": null,
   "metadata": {},
   "outputs": [],
   "source": []
  },
  {
   "cell_type": "code",
   "execution_count": null,
   "metadata": {},
   "outputs": [],
   "source": []
  }
 ],
 "metadata": {
  "kernelspec": {
   "display_name": "Python 3",
   "language": "python",
   "name": "python3"
  },
  "language_info": {
   "codemirror_mode": {
    "name": "ipython",
    "version": 3
   },
   "file_extension": ".py",
   "mimetype": "text/x-python",
   "name": "python",
   "nbconvert_exporter": "python",
   "pygments_lexer": "ipython3",
   "version": "3.7.1"
  }
 },
 "nbformat": 4,
 "nbformat_minor": 2
}
