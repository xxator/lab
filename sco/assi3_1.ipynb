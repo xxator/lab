{
 "cells": [
  {
   "cell_type": "code",
   "execution_count": 38,
   "metadata": {},
   "outputs": [
    {
     "data": {
      "text/html": [
       "<div>\n",
       "<style scoped>\n",
       "    .dataframe tbody tr th:only-of-type {\n",
       "        vertical-align: middle;\n",
       "    }\n",
       "\n",
       "    .dataframe tbody tr th {\n",
       "        vertical-align: top;\n",
       "    }\n",
       "\n",
       "    .dataframe thead th {\n",
       "        text-align: right;\n",
       "    }\n",
       "</style>\n",
       "<table border=\"1\" class=\"dataframe\">\n",
       "  <thead>\n",
       "    <tr style=\"text-align: right;\">\n",
       "      <th></th>\n",
       "      <th>x</th>\n",
       "      <th>y</th>\n",
       "      <th>z</th>\n",
       "    </tr>\n",
       "  </thead>\n",
       "  <tbody>\n",
       "    <tr>\n",
       "      <th>0</th>\n",
       "      <td>34.623660</td>\n",
       "      <td>78.024693</td>\n",
       "      <td>0</td>\n",
       "    </tr>\n",
       "    <tr>\n",
       "      <th>1</th>\n",
       "      <td>30.286711</td>\n",
       "      <td>43.894998</td>\n",
       "      <td>0</td>\n",
       "    </tr>\n",
       "    <tr>\n",
       "      <th>2</th>\n",
       "      <td>35.847409</td>\n",
       "      <td>72.902198</td>\n",
       "      <td>0</td>\n",
       "    </tr>\n",
       "    <tr>\n",
       "      <th>3</th>\n",
       "      <td>60.182599</td>\n",
       "      <td>86.308552</td>\n",
       "      <td>1</td>\n",
       "    </tr>\n",
       "    <tr>\n",
       "      <th>4</th>\n",
       "      <td>79.032736</td>\n",
       "      <td>75.344376</td>\n",
       "      <td>1</td>\n",
       "    </tr>\n",
       "  </tbody>\n",
       "</table>\n",
       "</div>"
      ],
      "text/plain": [
       "           x          y  z\n",
       "0  34.623660  78.024693  0\n",
       "1  30.286711  43.894998  0\n",
       "2  35.847409  72.902198  0\n",
       "3  60.182599  86.308552  1\n",
       "4  79.032736  75.344376  1"
      ]
     },
     "execution_count": 38,
     "metadata": {},
     "output_type": "execute_result"
    }
   ],
   "source": [
    "\n",
    "import matplotlib.pyplot as plt\n",
    "import numpy as np\n",
    "import pandas as pd\n",
    "data = pd.read_csv('data_exam.txt',sep=',') #reading the data\n",
    "\n",
    "data.head()\n",
    "\n"
   ]
  },
  {
   "cell_type": "code",
   "execution_count": 39,
   "metadata": {},
   "outputs": [],
   "source": [
    "\n",
    "w= np.ones(3) #setting w0,w1..\n",
    "a= 0.01 #alpha\n",
    "it=1000 #iterator = 1000 \n",
    "\n",
    "x = data.iloc[0:70,0:2].values\n",
    "x=(x-x.mean())/(x.std())\n",
    "one_mat = np.ones([70,1])\n",
    "x = np.concatenate((one_mat,x),axis=1) \n",
    "y = data.iloc[0:70,2].values\n",
    "#.values converts it from pandas.core.frame.DataFrame to numpy.ndarray\n",
    "# print(x)\n",
    "# print(y)\n"
   ]
  },
  {
   "cell_type": "code",
   "execution_count": 79,
   "metadata": {},
   "outputs": [
    {
     "name": "stdout",
     "output_type": "stream",
     "text": [
      "regression parameters:  [0.33437283 1.79529233 1.55890754]\n",
      "final cost:  0.26399991761634845\n"
     ]
    }
   ],
   "source": [
    "# cost function\n",
    "def find_cost(x,y,w):\n",
    "    g=1/(1+np.exp(-1*x.dot(w)))\n",
    "    sum=0\n",
    "    for i in range(len(y)):\n",
    "        valx=y[i]*np.log(g[i])+(1-y[i])*np.log(1-g[i])\n",
    "        sum+=valx\n",
    "    return sum/(-1*len(x))\n",
    "\n",
    "def gd(x,y,w,it,a):\n",
    "#     cost = np.zeros(it)\n",
    "    x_trans = x.T\n",
    "    for i in range(it):\n",
    "        dif = (1/(1+np.exp(-1*x.dot(w))))- y\n",
    "        grad = np.dot(x_trans, dif) / len(x)\n",
    "        w= w-a*grad\n",
    "#         cost[i] = find_cost(x, y, w)    \n",
    "    return w #,cost\n",
    "\n",
    "#calling gd function and find_cost function\n",
    "weights= gd(x,y,w,it,a)\n",
    "print(\"regression parameters: \",weights)\n",
    "final_cost = find_cost(x,y,weights)\n",
    "print(\"final cost: \",final_cost)\n"
   ]
  },
  {
   "cell_type": "code",
   "execution_count": 80,
   "metadata": {},
   "outputs": [
    {
     "name": "stdout",
     "output_type": "stream",
     "text": [
      "[0, 1, 1, 1, 1, 1, 1, 1, 0, 1, 1, 1, 1, 0, 1, 1, 0, 1, 1, 0, 1, 1, 0, 1, 1, 1, 1, 1, 0, 1]\n"
     ]
    }
   ],
   "source": [
    "# testing data\n",
    "x1=data.iloc[70:101,0:2]\n",
    "x1=(x1-x1.mean())/(x1.std())\n",
    "\n",
    "one_mat = np.ones([30,1])\n",
    "x1 = np.concatenate((one_mat,x1),axis=1)\n",
    "gz=1/(1+np.exp(-1*(x1.dot(w))))\n",
    "gz = [0 if x < 0.5 else 1 for x in gz]\n",
    "print(gz)\n",
    "\n",
    "\n"
   ]
  },
  {
   "cell_type": "code",
   "execution_count": 81,
   "metadata": {},
   "outputs": [
    {
     "name": "stdout",
     "output_type": "stream",
     "text": [
      "Total errors: 3\n"
     ]
    }
   ],
   "source": [
    "y1=data.iloc[70:101,2].values\n",
    "c=0\n",
    "for i in range(0,30):\n",
    "    if(gz[i]!=y1[i]):\n",
    "        c=c+1        \n",
    "print(\"Total errors:\",c)  \n",
    "        "
   ]
  },
  {
   "cell_type": "code",
   "execution_count": 82,
   "metadata": {},
   "outputs": [
    {
     "name": "stdout",
     "output_type": "stream",
     "text": [
      "regression parameters:  [0.00098387 0.02144946 0.01578903]\n",
      "final cost:  0.6829156938533697\n"
     ]
    }
   ],
   "source": [
    "#using reguralization\n",
    "#finding the cost function\n",
    "lam=1000\n",
    "w= np.ones(3)\n",
    "\n",
    "# def find_cost(x,y,w):\n",
    "#     g=1/(1+np.exp(-1*x.dot(w)))\n",
    "#     val=y.dot(np.log(g))+(1-y)*(np.log(1-g))\n",
    "#     return np.sum(val)/(-1*len(x))\n",
    "\n",
    "\n",
    "def gd1(x,y,w,it,a):\n",
    "#     cost = np.zeros(it)\n",
    "    x_trans = x.T\n",
    "    for i in range(it):\n",
    "        dif = (1/(1+np.exp(-1*x.dot(w))))- y\n",
    "        grad = np.dot(x_trans, dif) / len(x)\n",
    "        w= w*(1-(a*lam/len(x)))-a*grad\n",
    "#         cost[i] = find_cost(x, y, w)    \n",
    "    return w #,cost\n",
    "\n",
    "#calling gd function and find_cost function\n",
    "weights= gd1(x,y,w,it,a)\n",
    "print(\"regression parameters: \",weights)\n",
    "final_cost = find_cost(x,y,weights)\n",
    "print(\"final cost: \",final_cost)"
   ]
  },
  {
   "cell_type": "code",
   "execution_count": 44,
   "metadata": {},
   "outputs": [
    {
     "name": "stdout",
     "output_type": "stream",
     "text": [
      "[0, 1, 1, 1, 1, 1, 1, 1, 0, 1, 1, 1, 1, 0, 1, 1, 0, 1, 1, 0, 1, 1, 0, 1, 1, 1, 1, 1, 0, 1]\n"
     ]
    }
   ],
   "source": [
    "gz=1/(1+np.exp(-1*(x1.dot(w))))\n",
    "gz = [0 if x < 0.5 else 1 for x in gz]\n",
    "print(gz)\n"
   ]
  },
  {
   "cell_type": "code",
   "execution_count": 45,
   "metadata": {},
   "outputs": [
    {
     "name": "stdout",
     "output_type": "stream",
     "text": [
      "Total errors: 3\n"
     ]
    }
   ],
   "source": [
    "c=0\n",
    "for i in range(0,30):\n",
    "    if(gz[i]!=y1[i]):\n",
    "        c=c+1        \n",
    "print(\"Total errors:\",c)  "
   ]
  },
  {
   "cell_type": "code",
   "execution_count": null,
   "metadata": {},
   "outputs": [],
   "source": []
  }
 ],
 "metadata": {
  "kernelspec": {
   "display_name": "Python 3",
   "language": "python",
   "name": "python3"
  },
  "language_info": {
   "codemirror_mode": {
    "name": "ipython",
    "version": 3
   },
   "file_extension": ".py",
   "mimetype": "text/x-python",
   "name": "python",
   "nbconvert_exporter": "python",
   "pygments_lexer": "ipython3",
   "version": "3.7.1"
  }
 },
 "nbformat": 4,
 "nbformat_minor": 2
}
